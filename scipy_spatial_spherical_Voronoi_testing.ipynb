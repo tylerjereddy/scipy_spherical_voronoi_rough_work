{
 "cells": [
  {
   "cell_type": "markdown",
   "metadata": {},
   "source": [
    "Integrating spherical Voronoi code into scipy.spatial will require removing the dependency on pandas, among other things. The purpose of this notebook is to allow interactive testing as I adjust the spherical Voronoi code accordingly and to compare performance / behaviour back to the original code in my own repo."
   ]
  },
  {
   "cell_type": "code",
   "execution_count": 2,
   "metadata": {
    "collapsed": false
   },
   "outputs": [
    {
     "name": "stdout",
     "output_type": "stream",
     "text": [
      "The autoreload extension is already loaded. To reload it, use:\n",
      "  %reload_ext autoreload\n"
     ]
    }
   ],
   "source": [
    "import matplotlib.pyplot as plt\n",
    "%matplotlib inline\n",
    "import numpy\n",
    "import scipy\n",
    "import time\n",
    "%load_ext autoreload\n",
    "%autoreload 2\n",
    "from scipy.spatial.spherical_voronoi import SphericalVoronoi #eventually I want to be able to import this directly from scipy.spatial\n",
    "import sys; sys.path.append('/Users/treddy/github_projects/py_sphere_Voronoi') #so I can import the code from my own repo for comparison with the scipy-integrated code\n",
    "import voronoi_utility #my own repo"
   ]
  },
  {
   "cell_type": "code",
   "execution_count": 3,
   "metadata": {
    "collapsed": true
   },
   "outputs": [],
   "source": [
    "#generate a random array of 5000 points on the surface of a unit sphere:\n",
    "prng = numpy.random.RandomState(117) #pin down the random seed\n",
    "random_coords_on_sphere = voronoi_utility.generate_random_array_spherical_generators(5000, 1.0, prng)"
   ]
  },
  {
   "cell_type": "code",
   "execution_count": 26,
   "metadata": {
    "collapsed": false
   },
   "outputs": [],
   "source": [
    "#run the original spherical Voronoi code using the above generators (this should work just fine):\n",
    "original_voronoi_instance = voronoi_utility.Voronoi_Sphere_Surface(random_coords_on_sphere,1.0)\n",
    "dictionary_voronoi_polygon_vertices = original_voronoi_instance.voronoi_region_vertices_spherical_surface()"
   ]
  },
  {
   "cell_type": "code",
   "execution_count": 31,
   "metadata": {
    "collapsed": false
   },
   "outputs": [],
   "source": [
    "#likewise with the scipy-integrated spherical Voronoi code (this now works after replacing pandas operations with zip() and setdefault dict operations):\n",
    "scipy_voronoi_instance = SphericalVoronoi(random_coords_on_sphere, 1.0)\n",
    "scipy_dictionary_voronoi_polygon_vertices = scipy_voronoi_instance.voronoi_region_vertices_spherical_surface()"
   ]
  },
  {
   "cell_type": "code",
   "execution_count": 35,
   "metadata": {
    "collapsed": false
   },
   "outputs": [
    {
     "name": "stdout",
     "output_type": "stream",
     "text": [
      "common_voronoi_regions: 4999\n",
      "number of generators: 4999\n"
     ]
    }
   ],
   "source": [
    "#given that all unit tests are already passing for the scipy-integrated pandas-free spherical Voronoi code, rather than plotting the spherical Voronoi diagrams to show they are the same, simply show that the dictionaries of polygon vertices match:\n",
    "common_voronoi_regions = 0\n",
    "for generator_index, array_polygon_vertices in dictionary_voronoi_polygon_vertices.iteritems():\n",
    "    scipy_array_polygon_vertices = scipy_dictionary_voronoi_polygon_vertices[generator_index]\n",
    "    if numpy.all([array_polygon_vertices, scipy_array_polygon_vertices]):\n",
    "        common_voronoi_regions += 1\n",
    "    \n",
    "print 'common_voronoi_regions:', common_voronoi_regions\n",
    "print 'number of generators:', len(dictionary_voronoi_polygon_vertices.keys())"
   ]
  },
  {
   "cell_type": "markdown",
   "metadata": {},
   "source": [
    "The dictionaries of Voronoi regions match and all unit tests are passing for the scipy-integrated pandas-free code, so we have pretty high confidence in the scipy-migrated code. Now, benchmark the relative performance of the two sets of spherical Voronoi code, to see if I've lost any efficiency by dropping pandas in the scipy version."
   ]
  },
  {
   "cell_type": "code",
   "execution_count": null,
   "metadata": {
    "collapsed": true
   },
   "outputs": [],
   "source": []
  }
 ],
 "metadata": {
  "kernelspec": {
   "display_name": "Python 2",
   "language": "python",
   "name": "python2"
  },
  "language_info": {
   "codemirror_mode": {
    "name": "ipython",
    "version": 2
   },
   "file_extension": ".py",
   "mimetype": "text/x-python",
   "name": "python",
   "nbconvert_exporter": "python",
   "pygments_lexer": "ipython2",
   "version": "2.7.10"
  }
 },
 "nbformat": 4,
 "nbformat_minor": 0
}
