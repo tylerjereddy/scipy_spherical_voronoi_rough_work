{
 "cells": [
  {
   "cell_type": "markdown",
   "metadata": {},
   "source": [
    "Integrating spherical Voronoi code into scipy.spatial will require removing the dependency on pandas, among other things. The purpose of this notebook is to allow interactive testing as I adjust the spherical Voronoi code accordingly and to compare performance / behaviour back to the original code in my own repo."
   ]
  },
  {
   "cell_type": "code",
   "execution_count": 2,
   "metadata": {
    "collapsed": false
   },
   "outputs": [],
   "source": [
    "import matplotlib.pyplot as plt\n",
    "%matplotlib inline\n",
    "import numpy\n",
    "import scipy\n",
    "import time\n",
    "%load_ext autoreload\n",
    "%autoreload 2\n",
    "from scipy.spatial import SphericalVoronoi \n",
    "import sys; sys.path.append('/Users/treddy/github_projects/py_sphere_Voronoi') #so I can import the code from my own repo for comparison with the scipy-integrated code\n",
    "import voronoi_utility #my own repo"
   ]
  },
  {
   "cell_type": "code",
   "execution_count": 3,
   "metadata": {
    "collapsed": false
   },
   "outputs": [],
   "source": [
    "#generate a random array of 5000 points on the surface of a unit sphere:\n",
    "prng = numpy.random.RandomState(117) #pin down the random seed\n",
    "random_coords_on_sphere = voronoi_utility.generate_random_array_spherical_generators(5000, 1.0, prng)"
   ]
  },
  {
   "cell_type": "code",
   "execution_count": 4,
   "metadata": {
    "collapsed": false
   },
   "outputs": [],
   "source": [
    "#run the original spherical Voronoi code using the above generators (this should work just fine):\n",
    "original_voronoi_instance = voronoi_utility.Voronoi_Sphere_Surface(random_coords_on_sphere,1.0)\n",
    "dictionary_voronoi_polygon_vertices = original_voronoi_instance.voronoi_region_vertices_spherical_surface()"
   ]
  },
  {
   "cell_type": "code",
   "execution_count": 5,
   "metadata": {
    "collapsed": false
   },
   "outputs": [],
   "source": [
    "#likewise with the scipy-integrated spherical Voronoi code (this now works after replacing pandas operations with zip() and setdefault dict operations):\n",
    "scipy_voronoi_instance = SphericalVoronoi(random_coords_on_sphere, 1.0)\n",
    "scipy_dictionary_voronoi_polygon_vertices = scipy_voronoi_instance.voronoi_region_vertices_spherical_surface()"
   ]
  },
  {
   "cell_type": "code",
   "execution_count": 7,
   "metadata": {
    "collapsed": false
   },
   "outputs": [
    {
     "name": "stdout",
     "output_type": "stream",
     "text": [
      "common_voronoi_regions: 4999\n",
      "number of generators: 4999\n"
     ]
    }
   ],
   "source": [
    "#given that all unit tests are already passing for the scipy-integrated pandas-free spherical Voronoi code, rather than plotting the spherical Voronoi diagrams to show they are the same, simply show that the dictionaries of polygon vertices match:\n",
    "common_voronoi_regions = 0\n",
    "for generator_index, array_polygon_vertices in dictionary_voronoi_polygon_vertices.iteritems():\n",
    "    scipy_array_polygon_vertices = scipy_dictionary_voronoi_polygon_vertices[generator_index]\n",
    "    if numpy.all([array_polygon_vertices, scipy_array_polygon_vertices]):\n",
    "        common_voronoi_regions += 1\n",
    "    \n",
    "print 'common_voronoi_regions:', common_voronoi_regions\n",
    "print 'number of generators:', len(dictionary_voronoi_polygon_vertices.keys())"
   ]
  },
  {
   "cell_type": "markdown",
   "metadata": {},
   "source": [
    "The dictionaries of Voronoi regions match and all unit tests are passing for the scipy-integrated pandas-free code, so we have pretty high confidence in the scipy-migrated code. Now, benchmark the relative performance of the two sets of spherical Voronoi code, to see if I've lost any efficiency by dropping pandas in the scipy version."
   ]
  },
  {
   "cell_type": "code",
   "execution_count": 8,
   "metadata": {
    "collapsed": false
   },
   "outputs": [
    {
     "name": "stdout",
     "output_type": "stream",
     "text": [
      "generator_count: 10 processed.\n",
      "generator_count: 100 processed.\n",
      "generator_count: 1000 processed.\n",
      "generator_count: 5000 processed.\n",
      "generator_count: 10000 processed.\n",
      "generator_count: 15000 processed.\n",
      "generator_count: 20000 processed.\n",
      "generator_count: 25000 processed.\n",
      "generator_count: 27500 processed.\n",
      "generator_count: 32000 processed.\n",
      "generator_count: 40000 processed.\n",
      "generator_count: 50000 processed.\n",
      "generator_count: 60000 processed.\n",
      "generator_count: 70000 processed.\n"
     ]
    }
   ],
   "source": [
    "array_generator_counts = numpy.array([10,100,1000,5000,10000,15000,20000,25000, 27500, 32000, 40000, 50000, 60000, 70000]) #getting crashes at large numbers of generators\n",
    "dictionary_spherical_Voronoi_performance_profiles = {}\n",
    "dictionary_spherical_Voronoi_performance_profiles_scipy_version = {}\n",
    "prng = numpy.random.RandomState(117)\n",
    "\n",
    "for generator_count in array_generator_counts:\n",
    "    current_array_random_generators = voronoi_utility.generate_random_array_spherical_generators(generator_count,1.0,prng)\n",
    "    \n",
    "    current_Voronoi_instance = voronoi_utility.Voronoi_Sphere_Surface(current_array_random_generators,1.0)\n",
    "    current_Voronoi_instance_scipy_version = SphericalVoronoi(current_array_random_generators,1.0)\n",
    "    \n",
    "    start_time = time.time()\n",
    "    dict_generators_and_voronoi_regions = current_Voronoi_instance.voronoi_region_vertices_spherical_surface()\n",
    "    end_time = time.time()\n",
    "    time_to_produce_voronoi_regions = end_time - start_time\n",
    "    \n",
    "    start_time = time.time()\n",
    "    dict_generators_and_voronoi_regions_scipy_version = current_Voronoi_instance_scipy_version.voronoi_region_vertices_spherical_surface()\n",
    "    end_time = time.time()\n",
    "    time_to_produce_voronoi_regions_scipy_version = end_time - start_time\n",
    "    \n",
    "    dictionary_spherical_Voronoi_performance_profiles[generator_count] = {}\n",
    "    dictionary_spherical_Voronoi_performance_profiles_scipy_version[generator_count] = {}\n",
    "    dictionary_spherical_Voronoi_performance_profiles[generator_count]['time_to_produce_voronoi_regions'] = time_to_produce_voronoi_regions\n",
    "    dictionary_spherical_Voronoi_performance_profiles_scipy_version[generator_count]['time_to_produce_voronoi_regions'] = time_to_produce_voronoi_regions_scipy_version\n",
    "    print 'generator_count:', generator_count, 'processed.'"
   ]
  },
  {
   "cell_type": "code",
   "execution_count": 9,
   "metadata": {
    "collapsed": false
   },
   "outputs": [
    {
     "data": {
      "text/plain": [
       "<matplotlib.text.Text at 0x10aa204d0>"
      ]
     },
     "execution_count": 9,
     "metadata": {},
     "output_type": "execute_result"
    },
    {
     "data": {
      "image/png": "[encoded data removed]",
      "text/plain": [
       "<matplotlib.figure.Figure at 0x10a84d490>"
      ]
     },
     "metadata": {},
     "output_type": "display_data"
    }
   ],
   "source": [
    "import scipy.optimize\n",
    "import matplotlib.ticker as mtick\n",
    "fig_performance = plt.figure()\n",
    "ax = fig_performance.add_subplot('111')\n",
    "\n",
    "def quadratic(n, K):\n",
    "    '''Quadratic fit with K as the constant.'''\n",
    "    return K * (n ** 2)\n",
    "\n",
    "y_data = []\n",
    "y_data_scipy_version = []\n",
    "for value in array_generator_counts:\n",
    "    y_data.append(dictionary_spherical_Voronoi_performance_profiles[value]['time_to_produce_voronoi_regions'])\n",
    "    y_data_scipy_version.append(dictionary_spherical_Voronoi_performance_profiles_scipy_version[value]['time_to_produce_voronoi_regions'])\n",
    "\n",
    "label = 0 #control legend\n",
    "for generator_count, subdictionary in dictionary_spherical_Voronoi_performance_profiles.iteritems():\n",
    "    time_to_produce_Voronoi_regions = subdictionary['time_to_produce_voronoi_regions']\n",
    "    time_to_produce_Voronoi_regions_scipy_version = dictionary_spherical_Voronoi_performance_profiles_scipy_version[generator_count]['time_to_produce_voronoi_regions']\n",
    "    if label == 0:\n",
    "        ax.scatter(generator_count, time_to_produce_Voronoi_regions, edgecolor = 'none', c = 'k', label = 'original code')\n",
    "        ax.scatter(generator_count, time_to_produce_Voronoi_regions_scipy_version, edgecolor = 'none', c = 'red', label = 'scipy.spatial version')\n",
    "    else:\n",
    "        ax.scatter(generator_count, time_to_produce_Voronoi_regions, edgecolor = 'none', c = 'k')\n",
    "        ax.scatter(generator_count, time_to_produce_Voronoi_regions_scipy_version, edgecolor = 'none', c = 'red')\n",
    "    label += 1\n",
    "        \n",
    "K_quadratic, pcov_quadratic = scipy.optimize.curve_fit(quadratic, array_generator_counts, y_data)\n",
    "sample_x_data = numpy.linspace(5,72000,num = 50)\n",
    "#ax.set_xticks([0,20000,40000, 60000])\n",
    "sample_y_data_quadratic = quadratic(sample_x_data, K_quadratic[0])\n",
    "ax.plot(sample_x_data, sample_y_data_quadratic, c = 'purple', label = 'quadratic fit', alpha = 0.5, lw = 2)\n",
    "ax.legend(loc = 2)\n",
    "\n",
    "\n",
    "ax.set_xlabel('# generators')\n",
    "ax.set_ylabel('Time to produce Voronoi regions (s)')\n",
    "ax.set_xlim(-10,72000)\n",
    "ax.set_ylim(-2,150)\n",
    "ax.set_title('Empirical Assessment of O(n)')"
   ]
  },
  {
   "cell_type": "markdown",
   "metadata": {},
   "source": [
    "The scipy-integrated pandas-free version of the code has effectively identical performance over a broad range of generator counts, so at this stage we're pretty confident that the migration of the code was done properly and without detriment to performance."
   ]
  }
 ],
 "metadata": {
  "kernelspec": {
   "display_name": "Python 2",
   "language": "python",
   "name": "python2"
  },
  "language_info": {
   "codemirror_mode": {
    "name": "ipython",
    "version": 2
   },
   "file_extension": ".py",
   "mimetype": "text/x-python",
   "name": "python",
   "nbconvert_exporter": "python",
   "pygments_lexer": "ipython2",
   "version": "2.7.10"
  }
 },
 "nbformat": 4,
 "nbformat_minor": 0
}
